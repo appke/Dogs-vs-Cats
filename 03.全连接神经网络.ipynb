{
 "cells": [
  {
   "cell_type": "markdown",
   "metadata": {},
   "source": [
    "# 神经网络，PyTorch示例\n",
    "\n",
    "一层(隐含层)全连接神经网络"
   ]
  },
  {
   "cell_type": "code",
   "execution_count": 1,
   "metadata": {
    "collapsed": true
   },
   "outputs": [],
   "source": [
    "import torch\n",
    "import torch.nn as nn\n",
    "import torchvision.datasets as dsets\n",
    "import torchvision.transforms as transforms\n",
    "from torch.autograd import Variable"
   ]
  },
  {
   "cell_type": "code",
   "execution_count": 2,
   "metadata": {
    "collapsed": true
   },
   "outputs": [],
   "source": [
    "# Hyper Parameters，定义训练神经网络的超参数\n",
    "input_size = 784\n",
    "hidden_size = 500\n",
    "num_classes = 10\n",
    "num_epochs = 5\n",
    "batch_size = 100\n",
    "learning_rate = 0.001"
   ]
  },
  {
   "cell_type": "code",
   "execution_count": 4,
   "metadata": {
    "collapsed": true
   },
   "outputs": [],
   "source": [
    "# MNIST Dataset \n",
    "train_dataset = dsets.MNIST(root='./data', \n",
    "                            train=True, \n",
    "                            transform=transforms.ToTensor(),  \n",
    "                            download=True)\n",
    "\n",
    "test_dataset = dsets.MNIST(root='./data', \n",
    "                           train=False, \n",
    "                           transform=transforms.ToTensor())\n",
    "\n",
    "# Data Loader (Input Pipeline)\n",
    "train_loader = torch.utils.data.DataLoader(dataset=train_dataset, \n",
    "                                           batch_size=batch_size, \n",
    "                                           shuffle=True)\n",
    "\n",
    "test_loader = torch.utils.data.DataLoader(dataset=test_dataset, \n",
    "                                          batch_size=batch_size, \n",
    "                                          shuffle=False)"
   ]
  },
  {
   "cell_type": "code",
   "execution_count": 5,
   "metadata": {
    "collapsed": true
   },
   "outputs": [],
   "source": [
    "# Neural Network Model (1 hidden layer)，定义一个只有一层隐含层的简单神经网络\n",
    "class Net(nn.Module):\n",
    "    def __init__(self, input_size, hidden_size, num_classes):\n",
    "        super(Net, self).__init__()\n",
    "        self.fc1 = nn.Linear(input_size, hidden_size) \n",
    "        self.relu = nn.ReLU()\n",
    "        self.fc2 = nn.Linear(hidden_size, num_classes)  \n",
    "    \n",
    "    def forward(self, x):\n",
    "        out = self.fc1(x)\n",
    "        out = self.relu(out)\n",
    "        out = self.fc2(out)\n",
    "        return out\n",
    "    \n",
    "net = Net(input_size, hidden_size, num_classes) #实例化上文定义的神经网络\n",
    "\n",
    "    \n",
    "# Loss and Optimizer，定义损失函数和优化方式，此处分别选择softmax函数 (即求交叉熵)，和Adam优化器 (也可选择SGD优化器)\n",
    "criterion = nn.CrossEntropyLoss()  \n",
    "optimizer = torch.optim.Adam(net.parameters(), lr=learning_rate)"
   ]
  },
  {
   "cell_type": "code",
   "execution_count": 12,
   "metadata": {
    "collapsed": true
   },
   "outputs": [
    {
     "name": "stdout",
     "output_type": "stream",
     "text": [
      "Epoch [1/5], Step [100/600], Loss: 0.1170\n",
      "Epoch [1/5], Step [200/600], Loss: 0.1271\n",
      "Epoch [1/5], Step [300/600], Loss: 0.1998\n",
      "Epoch [1/5], Step [400/600], Loss: 0.1757\n",
      "Epoch [1/5], Step [500/600], Loss: 0.0851\n",
      "Epoch [1/5], Step [600/600], Loss: 0.0688\n",
      "Epoch [2/5], Step [100/600], Loss: 0.0305\n",
      "Epoch [2/5], Step [200/600], Loss: 0.0289\n",
      "Epoch [2/5], Step [300/600], Loss: 0.0467\n",
      "Epoch [2/5], Step [400/600], Loss: 0.0481\n",
      "Epoch [2/5], Step [500/600], Loss: 0.0854\n",
      "Epoch [2/5], Step [600/600], Loss: 0.0312\n",
      "Epoch [3/5], Step [100/600], Loss: 0.0300\n",
      "Epoch [3/5], Step [200/600], Loss: 0.0546\n",
      "Epoch [3/5], Step [300/600], Loss: 0.0479\n",
      "Epoch [3/5], Step [400/600], Loss: 0.0426\n",
      "Epoch [3/5], Step [500/600], Loss: 0.0296\n",
      "Epoch [3/5], Step [600/600], Loss: 0.0213\n",
      "Epoch [4/5], Step [100/600], Loss: 0.0135\n",
      "Epoch [4/5], Step [200/600], Loss: 0.0108\n",
      "Epoch [4/5], Step [300/600], Loss: 0.0352\n",
      "Epoch [4/5], Step [400/600], Loss: 0.0802\n",
      "Epoch [4/5], Step [500/600], Loss: 0.0235\n",
      "Epoch [4/5], Step [600/600], Loss: 0.0446\n",
      "Epoch [5/5], Step [100/600], Loss: 0.0357\n",
      "Epoch [5/5], Step [200/600], Loss: 0.0052\n",
      "Epoch [5/5], Step [300/600], Loss: 0.0090\n",
      "Epoch [5/5], Step [400/600], Loss: 0.0105\n",
      "Epoch [5/5], Step [500/600], Loss: 0.0171\n",
      "Epoch [5/5], Step [600/600], Loss: 0.0839\n"
     ]
    }
   ],
   "source": [
    "# Train the Model，训练神经网络模型\n",
    "for epoch in range(num_epochs):\n",
    "    for i, (images, labels) in enumerate(train_loader):  \n",
    "        # Convert torch tensor to Variable\n",
    "        images = Variable(images.view(-1, 28*28))\n",
    "        labels = Variable(labels)\n",
    "        \n",
    "        # Forward + Backward + Optimize\n",
    "        # 一步优化步骤里包括：1）根据网络权值前向转播 2）根据损失求导和链式法则反向传播 3）根据梯度更新网络权值\n",
    "        optimizer.zero_grad()  # zero the gradient buffer\n",
    "        outputs = net(images)\n",
    "        loss = criterion(outputs, labels)\n",
    "        loss.backward()\n",
    "        optimizer.step()\n",
    "        \n",
    "        if (i+1) % 100 == 0:\n",
    "            print ('Epoch [%d/%d], Step [%d/%d], Loss: %.4f' \n",
    "                   %(epoch+1, num_epochs, i+1, len(train_dataset)//batch_size, loss.item()))"
   ]
  },
  {
   "cell_type": "code",
   "execution_count": 13,
   "metadata": {
    "collapsed": true
   },
   "outputs": [
    {
     "name": "stdout",
     "output_type": "stream",
     "text": [
      "Accuracy of the network on the 10000 test images: 97 %\n"
     ]
    }
   ],
   "source": [
    "# Test the Model，测试训练好的模型\n",
    "correct = 0\n",
    "total = 0\n",
    "for images, labels in test_loader:\n",
    "    images = Variable(images.view(-1, 28*28))\n",
    "    outputs = net(images)\n",
    "    _, predicted = torch.max(outputs.data, 1)\n",
    "    total += labels.size(0)\n",
    "    correct += (predicted == labels).sum()\n",
    "\n",
    "print('Accuracy of the network on the 10000 test images: %d %%' % (100 * correct / total))\n",
    "\n",
    "# Save the Model，存储训练好的模型\n",
    "torch.save(net.state_dict(), 'model.pkl')"
   ]
  },
  {
   "cell_type": "code",
   "execution_count": null,
   "metadata": {},
   "outputs": [],
   "source": []
  }
 ],
 "metadata": {
  "kernelspec": {
   "display_name": "Python 3",
   "language": "python",
   "name": "python3"
  },
  "language_info": {
   "codemirror_mode": {
    "name": "ipython",
    "version": 3
   },
   "file_extension": ".py",
   "mimetype": "text/x-python",
   "name": "python",
   "nbconvert_exporter": "python",
   "pygments_lexer": "ipython3",
   "version": "3.6.4rc1"
  }
 },
 "nbformat": 4,
 "nbformat_minor": 2
}
